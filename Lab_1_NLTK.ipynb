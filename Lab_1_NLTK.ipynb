{
  "cells": [
    {
      "cell_type": "markdown",
      "metadata": {
        "id": "t3noOpUp1lJI"
      },
      "source": [
        "# Basic Text Processing with NLTK Tutorial\n",
        "**Uzair Ahmad**\n",
        "\n",
        "In this tutorial, we will explore basic text processing using the Natural Language Toolkit (NLTK) in Python. We will cover searching in text, counting vocabulary, and basic text statistics.\n",
        "\n",
        "**Note:** Before proceeding, make sure you have NLTK installed (`pip install nltk`) and download the necessary resources using `nltk.download('book')`."
      ]
    },
    {
      "cell_type": "code",
      "execution_count": 5,
      "metadata": {
        "id": "_WgykHsz1zE7"
      },
      "outputs": [
        {
          "name": "stdout",
          "output_type": "stream",
          "text": [
            "Requirement already satisfied: nltk in c:\\users\\agasti mhatre\\anaconda3\\lib\\site-packages (3.7)\n",
            "Requirement already satisfied: click in c:\\users\\agasti mhatre\\anaconda3\\lib\\site-packages (from nltk) (8.0.4)\n",
            "Requirement already satisfied: joblib in c:\\users\\agasti mhatre\\anaconda3\\lib\\site-packages (from nltk) (1.1.0)\n",
            "Requirement already satisfied: regex>=2021.8.3 in c:\\users\\agasti mhatre\\anaconda3\\lib\\site-packages (from nltk) (2022.3.15)\n",
            "Requirement already satisfied: tqdm in c:\\users\\agasti mhatre\\anaconda3\\lib\\site-packages (from nltk) (4.64.0)\n",
            "Requirement already satisfied: colorama in c:\\users\\agasti mhatre\\anaconda3\\lib\\site-packages (from click->nltk) (0.4.6)\n"
          ]
        }
      ],
      "source": [
        "!pip install nltk"
      ]
    },
    {
      "cell_type": "code",
      "execution_count": 3,
      "metadata": {
        "id": "o2Xpiqtc13Zs"
      },
      "outputs": [
        {
          "name": "stderr",
          "output_type": "stream",
          "text": [
            "[nltk_data] Downloading collection 'book'\n",
            "[nltk_data]    | \n",
            "[nltk_data]    | Downloading package abc to C:\\Users\\Agasti\n",
            "[nltk_data]    |     Mhatre\\AppData\\Roaming\\nltk_data...\n",
            "[nltk_data]    |   Package abc is already up-to-date!\n",
            "[nltk_data]    | Downloading package brown to C:\\Users\\Agasti\n",
            "[nltk_data]    |     Mhatre\\AppData\\Roaming\\nltk_data...\n",
            "[nltk_data]    |   Package brown is already up-to-date!\n",
            "[nltk_data]    | Downloading package chat80 to C:\\Users\\Agasti\n",
            "[nltk_data]    |     Mhatre\\AppData\\Roaming\\nltk_data...\n",
            "[nltk_data]    |   Package chat80 is already up-to-date!\n",
            "[nltk_data]    | Downloading package cmudict to C:\\Users\\Agasti\n",
            "[nltk_data]    |     Mhatre\\AppData\\Roaming\\nltk_data...\n",
            "[nltk_data]    |   Package cmudict is already up-to-date!\n",
            "[nltk_data]    | Downloading package conll2000 to C:\\Users\\Agasti\n",
            "[nltk_data]    |     Mhatre\\AppData\\Roaming\\nltk_data...\n",
            "[nltk_data]    |   Package conll2000 is already up-to-date!\n",
            "[nltk_data]    | Downloading package conll2002 to C:\\Users\\Agasti\n",
            "[nltk_data]    |     Mhatre\\AppData\\Roaming\\nltk_data...\n",
            "[nltk_data]    |   Package conll2002 is already up-to-date!\n",
            "[nltk_data]    | Downloading package dependency_treebank to\n",
            "[nltk_data]    |     C:\\Users\\Agasti\n",
            "[nltk_data]    |     Mhatre\\AppData\\Roaming\\nltk_data...\n",
            "[nltk_data]    |   Package dependency_treebank is already up-to-date!\n",
            "[nltk_data]    | Downloading package genesis to C:\\Users\\Agasti\n",
            "[nltk_data]    |     Mhatre\\AppData\\Roaming\\nltk_data...\n",
            "[nltk_data]    |   Package genesis is already up-to-date!\n",
            "[nltk_data]    | Downloading package gutenberg to C:\\Users\\Agasti\n",
            "[nltk_data]    |     Mhatre\\AppData\\Roaming\\nltk_data...\n",
            "[nltk_data]    |   Package gutenberg is already up-to-date!\n",
            "[nltk_data]    | Downloading package ieer to C:\\Users\\Agasti\n",
            "[nltk_data]    |     Mhatre\\AppData\\Roaming\\nltk_data...\n",
            "[nltk_data]    |   Package ieer is already up-to-date!\n",
            "[nltk_data]    | Downloading package inaugural to C:\\Users\\Agasti\n",
            "[nltk_data]    |     Mhatre\\AppData\\Roaming\\nltk_data...\n",
            "[nltk_data]    |   Package inaugural is already up-to-date!\n",
            "[nltk_data]    | Downloading package movie_reviews to C:\\Users\\Agasti\n",
            "[nltk_data]    |     Mhatre\\AppData\\Roaming\\nltk_data...\n",
            "[nltk_data]    |   Package movie_reviews is already up-to-date!\n",
            "[nltk_data]    | Downloading package nps_chat to C:\\Users\\Agasti\n",
            "[nltk_data]    |     Mhatre\\AppData\\Roaming\\nltk_data...\n",
            "[nltk_data]    |   Package nps_chat is already up-to-date!\n",
            "[nltk_data]    | Downloading package names to C:\\Users\\Agasti\n",
            "[nltk_data]    |     Mhatre\\AppData\\Roaming\\nltk_data...\n",
            "[nltk_data]    |   Package names is already up-to-date!\n",
            "[nltk_data]    | Downloading package ppattach to C:\\Users\\Agasti\n",
            "[nltk_data]    |     Mhatre\\AppData\\Roaming\\nltk_data...\n",
            "[nltk_data]    |   Package ppattach is already up-to-date!\n",
            "[nltk_data]    | Downloading package reuters to C:\\Users\\Agasti\n",
            "[nltk_data]    |     Mhatre\\AppData\\Roaming\\nltk_data...\n",
            "[nltk_data]    |   Package reuters is already up-to-date!\n",
            "[nltk_data]    | Downloading package senseval to C:\\Users\\Agasti\n",
            "[nltk_data]    |     Mhatre\\AppData\\Roaming\\nltk_data...\n",
            "[nltk_data]    |   Package senseval is already up-to-date!\n",
            "[nltk_data]    | Downloading package state_union to C:\\Users\\Agasti\n",
            "[nltk_data]    |     Mhatre\\AppData\\Roaming\\nltk_data...\n",
            "[nltk_data]    |   Package state_union is already up-to-date!\n",
            "[nltk_data]    | Downloading package stopwords to C:\\Users\\Agasti\n",
            "[nltk_data]    |     Mhatre\\AppData\\Roaming\\nltk_data...\n",
            "[nltk_data]    |   Package stopwords is already up-to-date!\n",
            "[nltk_data]    | Downloading package swadesh to C:\\Users\\Agasti\n",
            "[nltk_data]    |     Mhatre\\AppData\\Roaming\\nltk_data...\n",
            "[nltk_data]    |   Package swadesh is already up-to-date!\n",
            "[nltk_data]    | Downloading package timit to C:\\Users\\Agasti\n",
            "[nltk_data]    |     Mhatre\\AppData\\Roaming\\nltk_data...\n",
            "[nltk_data]    |   Package timit is already up-to-date!\n",
            "[nltk_data]    | Downloading package treebank to C:\\Users\\Agasti\n",
            "[nltk_data]    |     Mhatre\\AppData\\Roaming\\nltk_data...\n",
            "[nltk_data]    |   Package treebank is already up-to-date!\n",
            "[nltk_data]    | Downloading package toolbox to C:\\Users\\Agasti\n",
            "[nltk_data]    |     Mhatre\\AppData\\Roaming\\nltk_data...\n",
            "[nltk_data]    |   Package toolbox is already up-to-date!\n",
            "[nltk_data]    | Downloading package udhr to C:\\Users\\Agasti\n",
            "[nltk_data]    |     Mhatre\\AppData\\Roaming\\nltk_data...\n",
            "[nltk_data]    |   Package udhr is already up-to-date!\n",
            "[nltk_data]    | Downloading package udhr2 to C:\\Users\\Agasti\n",
            "[nltk_data]    |     Mhatre\\AppData\\Roaming\\nltk_data...\n",
            "[nltk_data]    |   Package udhr2 is already up-to-date!\n",
            "[nltk_data]    | Downloading package unicode_samples to\n",
            "[nltk_data]    |     C:\\Users\\Agasti\n",
            "[nltk_data]    |     Mhatre\\AppData\\Roaming\\nltk_data...\n",
            "[nltk_data]    |   Package unicode_samples is already up-to-date!\n",
            "[nltk_data]    | Downloading package webtext to C:\\Users\\Agasti\n",
            "[nltk_data]    |     Mhatre\\AppData\\Roaming\\nltk_data...\n",
            "[nltk_data]    |   Package webtext is already up-to-date!\n",
            "[nltk_data]    | Downloading package wordnet to C:\\Users\\Agasti\n",
            "[nltk_data]    |     Mhatre\\AppData\\Roaming\\nltk_data...\n",
            "[nltk_data]    |   Package wordnet is already up-to-date!\n",
            "[nltk_data]    | Downloading package wordnet_ic to C:\\Users\\Agasti\n",
            "[nltk_data]    |     Mhatre\\AppData\\Roaming\\nltk_data...\n",
            "[nltk_data]    |   Package wordnet_ic is already up-to-date!\n",
            "[nltk_data]    | Downloading package words to C:\\Users\\Agasti\n",
            "[nltk_data]    |     Mhatre\\AppData\\Roaming\\nltk_data...\n",
            "[nltk_data]    |   Package words is already up-to-date!\n",
            "[nltk_data]    | Downloading package maxent_treebank_pos_tagger to\n",
            "[nltk_data]    |     C:\\Users\\Agasti\n",
            "[nltk_data]    |     Mhatre\\AppData\\Roaming\\nltk_data...\n",
            "[nltk_data]    |   Package maxent_treebank_pos_tagger is already up-\n",
            "[nltk_data]    |       to-date!\n",
            "[nltk_data]    | Downloading package maxent_ne_chunker to\n",
            "[nltk_data]    |     C:\\Users\\Agasti\n",
            "[nltk_data]    |     Mhatre\\AppData\\Roaming\\nltk_data...\n",
            "[nltk_data]    |   Package maxent_ne_chunker is already up-to-date!\n",
            "[nltk_data]    | Downloading package universal_tagset to\n",
            "[nltk_data]    |     C:\\Users\\Agasti\n",
            "[nltk_data]    |     Mhatre\\AppData\\Roaming\\nltk_data...\n",
            "[nltk_data]    |   Package universal_tagset is already up-to-date!\n",
            "[nltk_data]    | Downloading package punkt to C:\\Users\\Agasti\n",
            "[nltk_data]    |     Mhatre\\AppData\\Roaming\\nltk_data...\n",
            "[nltk_data]    |   Package punkt is already up-to-date!\n",
            "[nltk_data]    | Downloading package book_grammars to C:\\Users\\Agasti\n",
            "[nltk_data]    |     Mhatre\\AppData\\Roaming\\nltk_data...\n",
            "[nltk_data]    |   Package book_grammars is already up-to-date!\n",
            "[nltk_data]    | Downloading package city_database to C:\\Users\\Agasti\n",
            "[nltk_data]    |     Mhatre\\AppData\\Roaming\\nltk_data...\n",
            "[nltk_data]    |   Package city_database is already up-to-date!\n",
            "[nltk_data]    | Downloading package tagsets to C:\\Users\\Agasti\n",
            "[nltk_data]    |     Mhatre\\AppData\\Roaming\\nltk_data...\n",
            "[nltk_data]    |   Package tagsets is already up-to-date!\n",
            "[nltk_data]    | Downloading package panlex_swadesh to C:\\Users\\Agasti\n",
            "[nltk_data]    |     Mhatre\\AppData\\Roaming\\nltk_data...\n",
            "[nltk_data]    |   Package panlex_swadesh is already up-to-date!\n",
            "[nltk_data]    | Downloading package averaged_perceptron_tagger to\n",
            "[nltk_data]    |     C:\\Users\\Agasti\n",
            "[nltk_data]    |     Mhatre\\AppData\\Roaming\\nltk_data...\n",
            "[nltk_data]    |   Package averaged_perceptron_tagger is already up-\n",
            "[nltk_data]    |       to-date!\n",
            "[nltk_data]    | \n",
            "[nltk_data]  Done downloading collection book\n"
          ]
        },
        {
          "data": {
            "text/plain": [
              "True"
            ]
          },
          "execution_count": 3,
          "metadata": {},
          "output_type": "execute_result"
        }
      ],
      "source": [
        "import nltk\n",
        "nltk.download('book')"
      ]
    },
    {
      "cell_type": "code",
      "execution_count": 4,
      "metadata": {
        "id": "vQh741DP18sc"
      },
      "outputs": [
        {
          "name": "stdout",
          "output_type": "stream",
          "text": [
            "*** Introductory Examples for the NLTK Book ***\n",
            "Loading text1, ..., text9 and sent1, ..., sent9\n",
            "Type the name of the text or sentence to view it.\n",
            "Type: 'texts()' or 'sents()' to list the materials.\n",
            "text1: Moby Dick by Herman Melville 1851\n",
            "text2: Sense and Sensibility by Jane Austen 1811\n",
            "text3: The Book of Genesis\n",
            "text4: Inaugural Address Corpus\n",
            "text5: Chat Corpus\n",
            "text6: Monty Python and the Holy Grail\n",
            "text7: Wall Street Journal\n",
            "text8: Personals Corpus\n",
            "text9: The Man Who Was Thursday by G . K . Chesterton 1908\n"
          ]
        }
      ],
      "source": [
        "from nltk.book import *"
      ]
    },
    {
      "cell_type": "markdown",
      "metadata": {
        "id": "yTNXnkZZ3ZCk"
      },
      "source": [
        "## Searching in Text\n",
        "\n",
        "### Concordance, Similar, and Common Context Functions\n",
        "\n",
        "To search for specific words and explore their context within a text, NLTK provides several useful functions.\n",
        "\n",
        "- The `concordance` function shows every occurrence of a given word along with its context in the text.\n"
      ]
    },
    {
      "cell_type": "code",
      "execution_count": 6,
      "metadata": {
        "colab": {
          "base_uri": "https://localhost:8080/"
        },
        "id": "hw3S7lQc3bWq",
        "outputId": "96657816-3303-4681-c9e5-026f3e288568"
      },
      "outputs": [
        {
          "name": "stdout",
          "output_type": "stream",
          "text": [
            "Displaying 25 of 35 matches:\n",
            "r 's 500 stock-index futures pit once S&P 500 futures fell 20 index points -- t\n",
            " well *T*-1 . Late that afternoon the S&P 500 stock-index futures contract fell\n",
            "xisting 30-minute , 12-point limit on S&P 500 stock-index futures trading -LRB-\n",
            "ome the maximum one-day limit for the S&P 500 stock-index futures contract ; th\n",
            "h slower growth the year before . The S&P index started *-1 sliding in price in\n",
            "ket watchers anxious . Payouts on the S&P 500 stocks rose 10 % in 1988 , accord\n",
            "ing a close watch on the yield on the S&P 500 . The figure is currently about 3\n",
            "ock-market data . The last time 0 the S&P 500 yield dropped below 3 % *T*-1 was\n",
            "971 and 1972 -- when the yield on the S&P 500 dropped below 3 % for at least tw\n",
            "r instance , is forecasting growth in S&P 500 dividends of just under 5 % in 19\n",
            "cally unchanged from 138 a year ago , S&P said 0 *T*-2 Wednesday . That followe\n",
            "e year-earlier pace *T*-1 . While the S&P tally does n't measure the magnitude \n",
            "turns of standard benchmarks like the S&P Not surprisingly , old-style money ma\n",
            " juggle portfolios so they mirror the S&P 500 . The indexers charge only a few \n",
            " who *T*-71 buy all 500 stocks in the S&P 500 often do n't even know what the c\n",
            "n index arbitrage , the widget is the S&P 500 , and its price is constantly com\n",
            "rtunity , someone who *T*-75 owns the S&P 500 widget in New York must sell it a\n",
            "sell it and replace it with a cheaper S&P 500 widget in Chicago . If the money \n",
            "78 to match or beat the return of the S&P 500 index , he is likely *-1 to remai\n",
            "d 3 % *U* to the annual return of the S&P 500 . That represents a very thin `` \n",
            "t money managers fail *-1 to beat the S&P 500 may contribute to the hysteria su\n",
            "actual stocks that *T*-76 make up the S&P 500 is more cumbersome than * transac\n",
            "in prices between the two markets for S&P 500 stocks -- usually it is large inv\n",
            ". The bonds are rated *-1 single-A by S&P , according to the lead underwriter .\n",
            " Jeffrey Bowman , a vice president at S&P , which *T*-1 raised a warning flag f\n"
          ]
        }
      ],
      "source": [
        "# Displaying the concordance of a word in text7\n",
        "text7.concordance('S&P')"
      ]
    },
    {
      "cell_type": "markdown",
      "metadata": {
        "id": "c_YpgbWH4Ruz"
      },
      "source": [
        "- The `similar` function finds words in the text that appear in similar contexts to the specified word.\n"
      ]
    },
    {
      "cell_type": "code",
      "execution_count": 18,
      "metadata": {
        "colab": {
          "base_uri": "https://localhost:8080/"
        },
        "id": "ua6j-oQi4Qfi",
        "outputId": "cbcfcfa0-fda5-4299-deab-084227180029"
      },
      "outputs": [
        {
          "name": "stdout",
          "output_type": "stream",
          "text": [
            "it institute billion government issue drop purchase stock chain order\n",
            "amount case stocks strength language the board chairman fields form\n"
          ]
        }
      ],
      "source": [
        "# Finding similar words in text7\n",
        "text7.similar('growth')"
      ]
    },
    {
      "cell_type": "code",
      "execution_count": 23,
      "metadata": {
        "colab": {
          "base_uri": "https://localhost:8080/"
        },
        "id": "xM8bcB2B4pVw",
        "outputId": "a29aa347-b1c2-4695-9559-742a1e0ac032"
      },
      "outputs": [
        {
          "name": "stdout",
          "output_type": "stream",
          "text": [
            "peace people government respect faith freedom country duty will\n",
            "influence union prosperity right honor independence war support wisdom\n",
            "labor conscience\n"
          ]
        }
      ],
      "source": [
        "text4.similar('growth')"
      ]
    },
    {
      "cell_type": "markdown",
      "metadata": {
        "id": "cQOUj5-c6aDl"
      },
      "source": [
        "- The ```dispersion_plot``` function generates a plot showing the location of words in the text."
      ]
    },
    {
      "cell_type": "code",
      "execution_count": 7,
      "metadata": {
        "colab": {
          "base_uri": "https://localhost:8080/",
          "height": 472
        },
        "id": "P36Ad6mY52WE",
        "outputId": "4a96dda5-e31f-4b28-96a6-1fa463f19b4c"
      },
      "outputs": [
        {
          "data": {
            "image/png": "[encoded data removed]",
            "text/plain": [
              "<Figure size 432x288 with 1 Axes>"
            ]
          },
          "metadata": {
            "needs_background": "light"
          },
          "output_type": "display_data"
        }
      ],
      "source": [
        "# Dispersion plot of words in a text\n",
        "text1.dispersion_plot(['S&P', 'index', 'price'])"
      ]
    },
    {
      "cell_type": "markdown",
      "metadata": {
        "id": "0dcZ0QXe-8Ve"
      },
      "source": [
        "## Collocations"
      ]
    },
    {
      "cell_type": "markdown",
      "metadata": {
        "id": "c3OWox6F_QGF"
      },
      "source": [
        "Working with collocations in NLTK involves identifying pairs or groups of words that often occur together. Collocations can provide valuable insights into the common patterns and associations within a given text. NLTK provides a module called nltk.collocations to work with collocations.\n",
        "\n",
        "Here's a basic guide on how to work with collocations in NLTK:"
      ]
    },
    {
      "cell_type": "code",
      "execution_count": 55,
      "metadata": {
        "id": "kwrUfQmv--yR"
      },
      "outputs": [],
      "source": [
        "from nltk import collocations"
      ]
    },
    {
      "cell_type": "markdown",
      "metadata": {
        "id": "JRcyE3k6_DQ1"
      },
      "source": [
        "**Create a Bigram Finder:**\n",
        "Use BigramCollocationFinder to find bigrams (pairs of adjacent words) in the text."
      ]
    },
    {
      "cell_type": "code",
      "execution_count": 59,
      "metadata": {
        "id": "IsY1u5tT_EXA"
      },
      "outputs": [],
      "source": [
        "bigram_finder = collocations.BigramCollocationFinder.from_words(text7)"
      ]
    },
    {
      "cell_type": "markdown",
      "metadata": {
        "id": "W39_1Gad_MOA"
      },
      "source": [
        "**Set Scoring Method:**\n",
        "Choose a scoring method to identify collocations. One common scoring method is pmi (Pointwise Mutual Information)."
      ]
    },
    {
      "cell_type": "code",
      "execution_count": 60,
      "metadata": {
        "id": "DNVliqHN_Zfl"
      },
      "outputs": [],
      "source": [
        "bigram_finder.apply_freq_filter(5)  # Adjust the frequency filter as needed\n",
        "bigram_measures = collocations.BigramAssocMeasures()\n",
        "scored_bigrams = bigram_finder.score_ngrams(bigram_measures.pmi)"
      ]
    },
    {
      "cell_type": "markdown",
      "metadata": {
        "id": "XssZSd30_dww"
      },
      "source": [
        "**Print Top Collocations:**\n",
        "Print the top collocations based on the chosen scoring method."
      ]
    },
    {
      "cell_type": "code",
      "execution_count": 61,
      "metadata": {
        "colab": {
          "base_uri": "https://localhost:8080/"
        },
        "id": "a88Q_cCx_e0C",
        "outputId": "46983826-4a7a-4a99-8f81-aff7d43b6705"
      },
      "outputs": [
        {
          "name": "stdout",
          "output_type": "stream",
          "text": [
            "('Burnham', 'Lambert') 14.29743218198336\n",
            "('Merrill', 'Lynch') 14.29743218198336\n",
            "('Tony', 'Lama') 14.29743218198336\n",
            "('Lehman', 'Hutton') 14.034397776149568\n",
            "('Hong', 'Kong') 13.81200535481312\n",
            "('circuit', 'breaker') 13.81200535481312\n",
            "('denying', 'wrongdoing') 13.81200535481312\n",
            "('Morgan', 'Stanley') 13.589612933476673\n",
            "('POP', 'Radio') 13.449435275428412\n",
            "('Heritage', 'Media') 13.29743218198336\n"
          ]
        }
      ],
      "source": [
        "for bigram, score in scored_bigrams[:10]:\n",
        "    print(bigram, score)"
      ]
    },
    {
      "cell_type": "markdown",
      "metadata": {
        "id": "igJ0sEG76qxU"
      },
      "source": [
        "\n",
        "## Counting Vocabulary\n",
        "\n",
        "### Lexical Diversity, Tokens, and Types\n",
        "\n",
        "To understand the richness of vocabulary in a text, we can calculate lexical diversity, tokens, and types.\n",
        "\n",
        "Lexical diversity is the ratio of the number of unique words to the total number of words in the text."
      ]
    },
    {
      "cell_type": "code",
      "execution_count": 44,
      "metadata": {
        "colab": {
          "base_uri": "https://localhost:8080/"
        },
        "id": "rggcPMaF6u62",
        "outputId": "21deed64-c9a9-4b81-9abf-1a5e509ce26a"
      },
      "outputs": [
        {
          "name": "stdout",
          "output_type": "stream",
          "text": [
            "0.07406285585022564\n",
            "0.12324685128531129\n"
          ]
        }
      ],
      "source": [
        "# Calculating lexical diversity of a text\n",
        "def lexical_diversity(text):\n",
        "    return len(set(text)) / len(text)\n",
        "\n",
        "print(lexical_diversity(text1))\n",
        "print(lexical_diversity(text7))"
      ]
    },
    {
      "cell_type": "markdown",
      "metadata": {
        "id": "wltUb5uL7hjJ"
      },
      "source": [
        "## Basic Statistics of Text\n",
        "\n",
        "### Word Frequency and Cumulative Word Frequency Plot\n",
        "\n",
        "To analyze word frequency in a text, NLTK provides the `FreqDist` class.\n",
        "\n"
      ]
    },
    {
      "cell_type": "code",
      "execution_count": 47,
      "metadata": {
        "colab": {
          "base_uri": "https://localhost:8080/"
        },
        "id": "PD9K_ODq7mWu",
        "outputId": "e9aff823-a39b-4d1b-99bc-bbab8a95d8bb"
      },
      "outputs": [
        {
          "data": {
            "text/plain": [
              "FreqDist({',': 4885, 'the': 4045, '.': 3828, 'of': 2319, 'to': 2164, 'a': 1878, 'in': 1572, 'and': 1511, '*-1': 1123, '0': 1099, ...})"
            ]
          },
          "execution_count": 47,
          "metadata": {},
          "output_type": "execute_result"
        }
      ],
      "source": [
        "# Finding word frequency in a text\n",
        "fdist = FreqDist(text7)\n",
        "fdist"
      ]
    },
    {
      "cell_type": "markdown",
      "metadata": {
        "id": "EtVmtsaZ7kI_"
      },
      "source": [
        "The `FreqDist` object contains the frequency distribution of words in the text."
      ]
    },
    {
      "cell_type": "code",
      "execution_count": 50,
      "metadata": {
        "colab": {
          "base_uri": "https://localhost:8080/",
          "height": 523
        },
        "id": "qxeNDbiO7tzT",
        "outputId": "6af8c8ed-8f1a-45a2-f39c-3c53f76490b2"
      },
      "outputs": [
        {
          "data": {
            "image/png": "[encoded data removed]",
            "text/plain": [
              "<Figure size 640x480 with 1 Axes>"
            ]
          },
          "metadata": {},
          "output_type": "display_data"
        },
        {
          "data": {
            "text/plain": [
              "<Axes: xlabel='Samples', ylabel='Cumulative Counts'>"
            ]
          },
          "execution_count": 50,
          "metadata": {},
          "output_type": "execute_result"
        }
      ],
      "source": [
        "# Plotting the cumulative word frequency\n",
        "fdist.plot(50, cumulative=True)"
      ]
    },
    {
      "cell_type": "markdown",
      "metadata": {
        "id": "74YHxjRs7yD6"
      },
      "source": [
        "\n",
        "The `plot` function generates a cumulative word frequency plot for the top 50 words in the text.\n"
      ]
    },
    {
      "cell_type": "markdown",
      "metadata": {
        "id": "aXGYHi8o9fYS"
      },
      "source": [
        "# The brown corpus\n",
        "The Brown Corpus is a landmark linguistic resource and one of the earliest and most widely used corpora in natural language processing (NLP). Compiled in the early 1960s by researchers at Brown University, hence its name, the corpus represents a diverse and comprehensive collection of text samples from various genres and sources.\n",
        "\n",
        "Containing over a million words, the Brown Corpus serves as a representative snapshot of American English, encompassing both written and spoken language. It is categorized into numerous genres such as news, fiction, science, and more, allowing researchers to explore language patterns across different domains.\n",
        "\n",
        "The Brown Corpus has played a crucial role in advancing computational linguistics and NLP research, providing valuable insights into language structure, semantics, and usage. Linguists and language researchers commonly use it for studying language variation, developing language models, and evaluating algorithms in text processing and analysis.\n",
        "\n",
        "Due to its historical significance and enduring relevance, the Brown Corpus remains an essential resource for anyone interested in the exploration and analysis of natural language."
      ]
    },
    {
      "cell_type": "code",
      "execution_count": 8,
      "metadata": {
        "id": "CS-Dq61v9wpo"
      },
      "outputs": [
        {
          "name": "stderr",
          "output_type": "stream",
          "text": [
            "[nltk_data] Downloading package brown to C:\\Users\\Agasti\n",
            "[nltk_data]     Mhatre\\AppData\\Roaming\\nltk_data...\n",
            "[nltk_data]   Package brown is already up-to-date!\n"
          ]
        }
      ],
      "source": [
        "import nltk\n",
        "\n",
        "# Download the Brown Corpus\n",
        "nltk.download('brown')\n",
        "\n",
        "# Load the Brown Corpus\n",
        "from nltk.corpus import brown"
      ]
    },
    {
      "cell_type": "code",
      "execution_count": 9,
      "metadata": {
        "colab": {
          "base_uri": "https://localhost:8080/"
        },
        "id": "DyE1aVRJ81aq",
        "outputId": "a8d815da-622c-449f-ca81-cea3965e1d85"
      },
      "outputs": [
        {
          "name": "stdout",
          "output_type": "stream",
          "text": [
            "Categories in the Brown Corpus: ['adventure', 'belles_lettres', 'editorial', 'fiction', 'government', 'hobbies', 'humor', 'learned', 'lore', 'mystery', 'news', 'religion', 'reviews', 'romance', 'science_fiction']\n",
            "\n",
            "Sample words from the 'news' category: ['The', 'Fulton', 'County', 'Grand', 'Jury', 'said', 'Friday', 'an', 'investigation', 'of']\n"
          ]
        }
      ],
      "source": [
        "# Accessing categories in the Brown Corpus\n",
        "categories = brown.categories()\n",
        "print(\"Categories in the Brown Corpus:\", categories)\n",
        "\n",
        "# Accessing words in a specific category (e.g., 'news')\n",
        "news_words = brown.words(categories='news')\n",
        "print(\"\\nSample words from the 'news' category:\", news_words[:10])\n"
      ]
    },
    {
      "cell_type": "markdown",
      "metadata": {
        "id": "zPofXKh9815a"
      },
      "source": [
        "# Exercises\n",
        "\n",
        "1. How many words are there in each text book of nltk. ? How many distinct words are there? Tabulate the results.\n",
        "\n",
        "2. Compare the lexical diversity scores for adventure, editorial and hobbies categories of brown corpus. Which genre is more lexically diverse?\n",
        "\n",
        "3. Produce a dispersion plot of the four main protagonists in Sense and Sensibility (text2): Elinor, Marianne, Edward, and Willoughby. What can you observe about the different roles played by the males and females in this novel? Can you identify the couples?\n",
        "\n",
        "4. Find the collocations in Monty Python and the Holy .\n",
        "\n",
        "5. Find all the four-letter words in the Chat Corpus (text5). With the help of a frequency distribution (FreqDist), show these words in decreasing order of frequency.\n",
        "\n",
        "6. Define a function called vocab_size(text) that has a single parameter for the text, and which returns the vocabulary size of the text."
      ]
    }
  ],
  "metadata": {
    "colab": {
      "provenance": [],
      "toc_visible": true
    },
    "kernelspec": {
      "display_name": "base",
      "language": "python",
      "name": "python3"
    },
    "language_info": {
      "codemirror_mode": {
        "name": "ipython",
        "version": 3
      },
      "file_extension": ".py",
      "mimetype": "text/x-python",
      "name": "python",
      "nbconvert_exporter": "python",
      "pygments_lexer": "ipython3",
      "version": "3.9.12"
    }
  },
  "nbformat": 4,
  "nbformat_minor": 0
}
