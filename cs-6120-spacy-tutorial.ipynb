{
 "cells": [
  {
   "cell_type": "markdown",
   "id": "120ec223",
   "metadata": {
    "papermill": {
     "duration": 0.022361,
     "end_time": "2022-05-14T21:53:10.083274",
     "exception": false,
     "start_time": "2022-05-14T21:53:10.060913",
     "status": "completed"
    },
    "tags": []
   },
   "source": [
    "# Installation "
   ]
  },
  {
   "cell_type": "markdown",
   "id": "4fd5b663",
   "metadata": {
    "papermill": {
     "duration": 0.020679,
     "end_time": "2022-05-14T21:53:10.125627",
     "exception": false,
     "start_time": "2022-05-14T21:53:10.104948",
     "status": "completed"
    },
    "tags": []
   },
   "source": [
    "## For CPU based Spacy : \n",
    "\n",
    "!pip install -U pip setuptools wheel </br>\n",
    "\n",
    "!pip install -U 'spacy' </br>\n",
    "\n",
    "!python -m spacy download en_core_web_sm </br>\n",
    "\n",
    "## For GPU based Spacy : \n",
    "\n",
    "!pip install -U pip setuptools wheel </br>\n",
    "\n",
    "\n",
    "[Specify your cuda version here]\n",
    "\n",
    "!pip install -U 'spacy[cuda113]' </br> \n",
    "\n",
    "!python -m spacy download en_core_web_sm</br>"
   ]
  },
  {
   "cell_type": "markdown",
   "id": "96a517da",
   "metadata": {
    "papermill": {
     "duration": 0.020319,
     "end_time": "2022-05-14T21:53:10.166643",
     "exception": false,
     "start_time": "2022-05-14T21:53:10.146324",
     "status": "completed"
    },
    "tags": []
   },
   "source": [
    "# 1. Cleaning Numbers"
   ]
  },
  {
   "cell_type": "code",
   "execution_count": 8,
   "id": "28d546bf",
   "metadata": {},
   "outputs": [
    {
     "name": "stdout",
     "output_type": "stream",
     "text": [
      "Requirement already satisfied: pip in c:\\users\\agasti mhatre\\anaconda3\\lib\\site-packages (24.3.1)\n",
      "Requirement already satisfied: setuptools in c:\\users\\agasti mhatre\\anaconda3\\lib\\site-packages (75.8.0)\n",
      "Requirement already satisfied: wheel in c:\\users\\agasti mhatre\\anaconda3\\lib\\site-packages (0.45.1)\n",
      "Requirement already satisfied: spacy in c:\\users\\agasti mhatre\\anaconda3\\lib\\site-packages (3.8.3)\n",
      "Requirement already satisfied: spacy-legacy<3.1.0,>=3.0.11 in c:\\users\\agasti mhatre\\anaconda3\\lib\\site-packages (from spacy) (3.0.12)\n",
      "Requirement already satisfied: spacy-loggers<2.0.0,>=1.0.0 in c:\\users\\agasti mhatre\\anaconda3\\lib\\site-packages (from spacy) (1.0.5)\n",
      "Requirement already satisfied: murmurhash<1.1.0,>=0.28.0 in c:\\users\\agasti mhatre\\anaconda3\\lib\\site-packages (from spacy) (1.0.11)\n",
      "Requirement already satisfied: cymem<2.1.0,>=2.0.2 in c:\\users\\agasti mhatre\\anaconda3\\lib\\site-packages (from spacy) (2.0.10)\n",
      "Requirement already satisfied: preshed<3.1.0,>=3.0.2 in c:\\users\\agasti mhatre\\anaconda3\\lib\\site-packages (from spacy) (3.0.9)\n",
      "Requirement already satisfied: thinc<8.4.0,>=8.3.0 in c:\\users\\agasti mhatre\\anaconda3\\lib\\site-packages (from spacy) (8.3.3)\n",
      "Requirement already satisfied: wasabi<1.2.0,>=0.9.1 in c:\\users\\agasti mhatre\\anaconda3\\lib\\site-packages (from spacy) (1.1.3)\n",
      "Requirement already satisfied: srsly<3.0.0,>=2.4.3 in c:\\users\\agasti mhatre\\anaconda3\\lib\\site-packages (from spacy) (2.5.0)\n",
      "Requirement already satisfied: catalogue<2.1.0,>=2.0.6 in c:\\users\\agasti mhatre\\anaconda3\\lib\\site-packages (from spacy) (2.0.10)\n",
      "Requirement already satisfied: weasel<0.5.0,>=0.1.0 in c:\\users\\agasti mhatre\\anaconda3\\lib\\site-packages (from spacy) (0.4.1)\n",
      "Requirement already satisfied: typer<1.0.0,>=0.3.0 in c:\\users\\agasti mhatre\\anaconda3\\lib\\site-packages (from spacy) (0.15.1)\n",
      "Requirement already satisfied: tqdm<5.0.0,>=4.38.0 in c:\\users\\agasti mhatre\\anaconda3\\lib\\site-packages (from spacy) (4.64.0)\n",
      "Requirement already satisfied: numpy>=1.19.0 in c:\\users\\agasti mhatre\\anaconda3\\lib\\site-packages (from spacy) (1.21.5)\n",
      "Requirement already satisfied: requests<3.0.0,>=2.13.0 in c:\\users\\agasti mhatre\\anaconda3\\lib\\site-packages (from spacy) (2.27.1)\n",
      "Requirement already satisfied: pydantic!=1.8,!=1.8.1,<3.0.0,>=1.7.4 in c:\\users\\agasti mhatre\\anaconda3\\lib\\site-packages (from spacy) (2.10.5)\n",
      "Requirement already satisfied: jinja2 in c:\\users\\agasti mhatre\\anaconda3\\lib\\site-packages (from spacy) (2.11.3)\n",
      "Requirement already satisfied: setuptools in c:\\users\\agasti mhatre\\anaconda3\\lib\\site-packages (from spacy) (75.8.0)\n",
      "Requirement already satisfied: packaging>=20.0 in c:\\users\\agasti mhatre\\anaconda3\\lib\\site-packages (from spacy) (21.3)\n",
      "Requirement already satisfied: langcodes<4.0.0,>=3.2.0 in c:\\users\\agasti mhatre\\anaconda3\\lib\\site-packages (from spacy) (3.5.0)\n",
      "Requirement already satisfied: language-data>=1.2 in c:\\users\\agasti mhatre\\anaconda3\\lib\\site-packages (from langcodes<4.0.0,>=3.2.0->spacy) (1.3.0)\n",
      "Requirement already satisfied: pyparsing!=3.0.5,>=2.0.2 in c:\\users\\agasti mhatre\\anaconda3\\lib\\site-packages (from packaging>=20.0->spacy) (3.0.4)\n",
      "Requirement already satisfied: annotated-types>=0.6.0 in c:\\users\\agasti mhatre\\anaconda3\\lib\\site-packages (from pydantic!=1.8,!=1.8.1,<3.0.0,>=1.7.4->spacy) (0.7.0)\n",
      "Requirement already satisfied: pydantic-core==2.27.2 in c:\\users\\agasti mhatre\\anaconda3\\lib\\site-packages (from pydantic!=1.8,!=1.8.1,<3.0.0,>=1.7.4->spacy) (2.27.2)\n",
      "Requirement already satisfied: typing-extensions>=4.12.2 in c:\\users\\agasti mhatre\\anaconda3\\lib\\site-packages (from pydantic!=1.8,!=1.8.1,<3.0.0,>=1.7.4->spacy) (4.12.2)\n",
      "Requirement already satisfied: urllib3<1.27,>=1.21.1 in c:\\users\\agasti mhatre\\anaconda3\\lib\\site-packages (from requests<3.0.0,>=2.13.0->spacy) (1.26.9)\n",
      "Requirement already satisfied: certifi>=2017.4.17 in c:\\users\\agasti mhatre\\anaconda3\\lib\\site-packages (from requests<3.0.0,>=2.13.0->spacy) (2021.10.8)\n",
      "Requirement already satisfied: charset-normalizer~=2.0.0 in c:\\users\\agasti mhatre\\anaconda3\\lib\\site-packages (from requests<3.0.0,>=2.13.0->spacy) (2.0.4)\n",
      "Requirement already satisfied: idna<4,>=2.5 in c:\\users\\agasti mhatre\\anaconda3\\lib\\site-packages (from requests<3.0.0,>=2.13.0->spacy) (3.3)\n",
      "Requirement already satisfied: blis<1.2.0,>=1.1.0 in c:\\users\\agasti mhatre\\anaconda3\\lib\\site-packages (from thinc<8.4.0,>=8.3.0->spacy) (1.1.0)\n",
      "Requirement already satisfied: confection<1.0.0,>=0.0.1 in c:\\users\\agasti mhatre\\anaconda3\\lib\\site-packages (from thinc<8.4.0,>=8.3.0->spacy) (0.1.5)\n",
      "Requirement already satisfied: colorama in c:\\users\\agasti mhatre\\anaconda3\\lib\\site-packages (from tqdm<5.0.0,>=4.38.0->spacy) (0.4.6)\n",
      "Requirement already satisfied: click>=8.0.0 in c:\\users\\agasti mhatre\\anaconda3\\lib\\site-packages (from typer<1.0.0,>=0.3.0->spacy) (8.0.4)\n",
      "Requirement already satisfied: shellingham>=1.3.0 in c:\\users\\agasti mhatre\\anaconda3\\lib\\site-packages (from typer<1.0.0,>=0.3.0->spacy) (1.5.4)\n",
      "Requirement already satisfied: rich>=10.11.0 in c:\\users\\agasti mhatre\\anaconda3\\lib\\site-packages (from typer<1.0.0,>=0.3.0->spacy) (13.9.4)\n",
      "Requirement already satisfied: cloudpathlib<1.0.0,>=0.7.0 in c:\\users\\agasti mhatre\\anaconda3\\lib\\site-packages (from weasel<0.5.0,>=0.1.0->spacy) (0.20.0)\n",
      "Requirement already satisfied: smart-open<8.0.0,>=5.2.1 in c:\\users\\agasti mhatre\\anaconda3\\lib\\site-packages (from weasel<0.5.0,>=0.1.0->spacy) (7.1.0)\n",
      "Requirement already satisfied: MarkupSafe>=0.23 in c:\\users\\agasti mhatre\\anaconda3\\lib\\site-packages (from jinja2->spacy) (2.0.1)\n",
      "Requirement already satisfied: marisa-trie>=1.1.0 in c:\\users\\agasti mhatre\\anaconda3\\lib\\site-packages (from language-data>=1.2->langcodes<4.0.0,>=3.2.0->spacy) (1.2.1)\n",
      "Requirement already satisfied: markdown-it-py>=2.2.0 in c:\\users\\agasti mhatre\\anaconda3\\lib\\site-packages (from rich>=10.11.0->typer<1.0.0,>=0.3.0->spacy) (3.0.0)\n",
      "Requirement already satisfied: pygments<3.0.0,>=2.13.0 in c:\\users\\agasti mhatre\\anaconda3\\lib\\site-packages (from rich>=10.11.0->typer<1.0.0,>=0.3.0->spacy) (2.19.1)\n",
      "Requirement already satisfied: wrapt in c:\\users\\agasti mhatre\\anaconda3\\lib\\site-packages (from smart-open<8.0.0,>=5.2.1->weasel<0.5.0,>=0.1.0->spacy) (1.12.1)\n",
      "Requirement already satisfied: mdurl~=0.1 in c:\\users\\agasti mhatre\\anaconda3\\lib\\site-packages (from markdown-it-py>=2.2.0->rich>=10.11.0->typer<1.0.0,>=0.3.0->spacy) (0.1.2)\n",
      "Collecting en-core-web-sm==3.8.0\n",
      "  Using cached https://github.com/explosion/spacy-models/releases/download/en_core_web_sm-3.8.0/en_core_web_sm-3.8.0-py3-none-any.whl (12.8 MB)\n",
      "\u001b[38;5;2m✔ Download and installation successful\u001b[0m\n",
      "You can now load the package via spacy.load('en_core_web_sm')\n"
     ]
    }
   ],
   "source": [
    "!pip install -U pip setuptools wheel\n",
    "!pip install -U spacy\n",
    "!python -m spacy download en_core_web_sm"
   ]
  },
  {
   "cell_type": "code",
   "execution_count": 9,
   "id": "24656a87",
   "metadata": {
    "execution": {
     "iopub.execute_input": "2022-05-14T21:53:10.210483Z",
     "iopub.status.busy": "2022-05-14T21:53:10.209846Z",
     "iopub.status.idle": "2022-05-14T21:53:21.764046Z",
     "shell.execute_reply": "2022-05-14T21:53:21.762421Z"
    },
    "papermill": {
     "duration": 11.579574,
     "end_time": "2022-05-14T21:53:21.766973",
     "exception": false,
     "start_time": "2022-05-14T21:53:10.187399",
     "status": "completed"
    },
    "tags": []
   },
   "outputs": [
    {
     "name": "stdout",
     "output_type": "stream",
     "text": [
      "Before - Todays Date is 23rd we need to submit our assignment on 30th of this month.\n",
      "After  - Todays Date is rd we need to submit our assignment on th of this month.\n"
     ]
    }
   ],
   "source": [
    "#import the library\n",
    "import spacy\n",
    "from spacy.symbols import ORTH\n",
    "from spacy.lang.en.stop_words import STOP_WORDS\n",
    "import re\n",
    "import pandas as pd\n",
    "\n",
    "sentence = \"Todays Date is 23rd we need to submit our assignment on 30th of this month.\"\n",
    "\n",
    "\n",
    "def clean_numbers(text):\n",
    "    text = re.sub(r'(\\d+)([a-zA-Z])', '\\g<1> \\g<2>', text)\n",
    "    text = re.sub(r'(\\d+) (th|st|nd|rd) ', '\\g<1>\\g<2> ', text)\n",
    "    text = re.sub(r'(\\d+),(\\d+)', '\\g<1>\\g<2>', text)\n",
    "    text = re.sub(r'(\\d+)(e)(\\d+)','\\g<1> \\g<3>', text)\n",
    "    text = re.sub(r'\\d+', '', text)\n",
    "    return text\n",
    "\n",
    "\n",
    "print(f'Before - {sentence}')\n",
    "print(f'After  - {clean_numbers(sentence)}')"
   ]
  },
  {
   "cell_type": "code",
   "execution_count": 10,
   "id": "4835e4f1",
   "metadata": {
    "execution": {
     "iopub.execute_input": "2022-05-14T21:53:21.821116Z",
     "iopub.status.busy": "2022-05-14T21:53:21.820281Z",
     "iopub.status.idle": "2022-05-14T21:53:21.874934Z",
     "shell.execute_reply": "2022-05-14T21:53:21.873865Z"
    },
    "papermill": {
     "duration": 0.080857,
     "end_time": "2022-05-14T21:53:21.877549",
     "exception": false,
     "start_time": "2022-05-14T21:53:21.796692",
     "status": "completed"
    },
    "tags": []
   },
   "outputs": [
    {
     "ename": "FileNotFoundError",
     "evalue": "[Errno 2] No such file or directory: '../input/datasetspam/spam.csv'",
     "output_type": "error",
     "traceback": [
      "\u001b[1;31m---------------------------------------------------------------------------\u001b[0m",
      "\u001b[1;31mFileNotFoundError\u001b[0m                         Traceback (most recent call last)",
      "Input \u001b[1;32mIn [10]\u001b[0m, in \u001b[0;36m<cell line: 1>\u001b[1;34m()\u001b[0m\n\u001b[1;32m----> 1\u001b[0m data \u001b[38;5;241m=\u001b[39m \u001b[43mpd\u001b[49m\u001b[38;5;241;43m.\u001b[39;49m\u001b[43mread_csv\u001b[49m\u001b[43m(\u001b[49m\u001b[38;5;124;43m'\u001b[39;49m\u001b[38;5;124;43m../input/datasetspam/spam.csv\u001b[39;49m\u001b[38;5;124;43m'\u001b[39;49m\u001b[43m,\u001b[49m\u001b[43mencoding\u001b[49m\u001b[38;5;241;43m=\u001b[39;49m\u001b[38;5;124;43m'\u001b[39;49m\u001b[38;5;124;43mISO-8859-1\u001b[39;49m\u001b[38;5;124;43m'\u001b[39;49m\u001b[43m,\u001b[49m\u001b[43musecols\u001b[49m\u001b[43m \u001b[49m\u001b[38;5;241;43m=\u001b[39;49m\u001b[43m \u001b[49m\u001b[43m[\u001b[49m\u001b[38;5;124;43m'\u001b[39;49m\u001b[38;5;124;43mv1\u001b[39;49m\u001b[38;5;124;43m'\u001b[39;49m\u001b[43m,\u001b[49m\u001b[38;5;124;43m'\u001b[39;49m\u001b[38;5;124;43mv2\u001b[39;49m\u001b[38;5;124;43m'\u001b[39;49m\u001b[43m]\u001b[49m\u001b[43m)\u001b[49m\n\u001b[0;32m      2\u001b[0m data\u001b[38;5;241m.\u001b[39mhead()\n",
      "File \u001b[1;32mc:\\Users\\Agasti Mhatre\\anaconda3\\lib\\site-packages\\pandas\\util\\_decorators.py:311\u001b[0m, in \u001b[0;36mdeprecate_nonkeyword_arguments.<locals>.decorate.<locals>.wrapper\u001b[1;34m(*args, **kwargs)\u001b[0m\n\u001b[0;32m    305\u001b[0m \u001b[38;5;28;01mif\u001b[39;00m \u001b[38;5;28mlen\u001b[39m(args) \u001b[38;5;241m>\u001b[39m num_allow_args:\n\u001b[0;32m    306\u001b[0m     warnings\u001b[38;5;241m.\u001b[39mwarn(\n\u001b[0;32m    307\u001b[0m         msg\u001b[38;5;241m.\u001b[39mformat(arguments\u001b[38;5;241m=\u001b[39marguments),\n\u001b[0;32m    308\u001b[0m         \u001b[38;5;167;01mFutureWarning\u001b[39;00m,\n\u001b[0;32m    309\u001b[0m         stacklevel\u001b[38;5;241m=\u001b[39mstacklevel,\n\u001b[0;32m    310\u001b[0m     )\n\u001b[1;32m--> 311\u001b[0m \u001b[38;5;28;01mreturn\u001b[39;00m func(\u001b[38;5;241m*\u001b[39margs, \u001b[38;5;241m*\u001b[39m\u001b[38;5;241m*\u001b[39mkwargs)\n",
      "File \u001b[1;32mc:\\Users\\Agasti Mhatre\\anaconda3\\lib\\site-packages\\pandas\\io\\parsers\\readers.py:680\u001b[0m, in \u001b[0;36mread_csv\u001b[1;34m(filepath_or_buffer, sep, delimiter, header, names, index_col, usecols, squeeze, prefix, mangle_dupe_cols, dtype, engine, converters, true_values, false_values, skipinitialspace, skiprows, skipfooter, nrows, na_values, keep_default_na, na_filter, verbose, skip_blank_lines, parse_dates, infer_datetime_format, keep_date_col, date_parser, dayfirst, cache_dates, iterator, chunksize, compression, thousands, decimal, lineterminator, quotechar, quoting, doublequote, escapechar, comment, encoding, encoding_errors, dialect, error_bad_lines, warn_bad_lines, on_bad_lines, delim_whitespace, low_memory, memory_map, float_precision, storage_options)\u001b[0m\n\u001b[0;32m    665\u001b[0m kwds_defaults \u001b[38;5;241m=\u001b[39m _refine_defaults_read(\n\u001b[0;32m    666\u001b[0m     dialect,\n\u001b[0;32m    667\u001b[0m     delimiter,\n\u001b[1;32m   (...)\u001b[0m\n\u001b[0;32m    676\u001b[0m     defaults\u001b[38;5;241m=\u001b[39m{\u001b[38;5;124m\"\u001b[39m\u001b[38;5;124mdelimiter\u001b[39m\u001b[38;5;124m\"\u001b[39m: \u001b[38;5;124m\"\u001b[39m\u001b[38;5;124m,\u001b[39m\u001b[38;5;124m\"\u001b[39m},\n\u001b[0;32m    677\u001b[0m )\n\u001b[0;32m    678\u001b[0m kwds\u001b[38;5;241m.\u001b[39mupdate(kwds_defaults)\n\u001b[1;32m--> 680\u001b[0m \u001b[38;5;28;01mreturn\u001b[39;00m \u001b[43m_read\u001b[49m\u001b[43m(\u001b[49m\u001b[43mfilepath_or_buffer\u001b[49m\u001b[43m,\u001b[49m\u001b[43m \u001b[49m\u001b[43mkwds\u001b[49m\u001b[43m)\u001b[49m\n",
      "File \u001b[1;32mc:\\Users\\Agasti Mhatre\\anaconda3\\lib\\site-packages\\pandas\\io\\parsers\\readers.py:575\u001b[0m, in \u001b[0;36m_read\u001b[1;34m(filepath_or_buffer, kwds)\u001b[0m\n\u001b[0;32m    572\u001b[0m _validate_names(kwds\u001b[38;5;241m.\u001b[39mget(\u001b[38;5;124m\"\u001b[39m\u001b[38;5;124mnames\u001b[39m\u001b[38;5;124m\"\u001b[39m, \u001b[38;5;28;01mNone\u001b[39;00m))\n\u001b[0;32m    574\u001b[0m \u001b[38;5;66;03m# Create the parser.\u001b[39;00m\n\u001b[1;32m--> 575\u001b[0m parser \u001b[38;5;241m=\u001b[39m TextFileReader(filepath_or_buffer, \u001b[38;5;241m*\u001b[39m\u001b[38;5;241m*\u001b[39mkwds)\n\u001b[0;32m    577\u001b[0m \u001b[38;5;28;01mif\u001b[39;00m chunksize \u001b[38;5;129;01mor\u001b[39;00m iterator:\n\u001b[0;32m    578\u001b[0m     \u001b[38;5;28;01mreturn\u001b[39;00m parser\n",
      "File \u001b[1;32mc:\\Users\\Agasti Mhatre\\anaconda3\\lib\\site-packages\\pandas\\io\\parsers\\readers.py:933\u001b[0m, in \u001b[0;36mTextFileReader.__init__\u001b[1;34m(self, f, engine, **kwds)\u001b[0m\n\u001b[0;32m    930\u001b[0m     \u001b[38;5;28mself\u001b[39m\u001b[38;5;241m.\u001b[39moptions[\u001b[38;5;124m\"\u001b[39m\u001b[38;5;124mhas_index_names\u001b[39m\u001b[38;5;124m\"\u001b[39m] \u001b[38;5;241m=\u001b[39m kwds[\u001b[38;5;124m\"\u001b[39m\u001b[38;5;124mhas_index_names\u001b[39m\u001b[38;5;124m\"\u001b[39m]\n\u001b[0;32m    932\u001b[0m \u001b[38;5;28mself\u001b[39m\u001b[38;5;241m.\u001b[39mhandles: IOHandles \u001b[38;5;241m|\u001b[39m \u001b[38;5;28;01mNone\u001b[39;00m \u001b[38;5;241m=\u001b[39m \u001b[38;5;28;01mNone\u001b[39;00m\n\u001b[1;32m--> 933\u001b[0m \u001b[38;5;28mself\u001b[39m\u001b[38;5;241m.\u001b[39m_engine \u001b[38;5;241m=\u001b[39m \u001b[38;5;28;43mself\u001b[39;49m\u001b[38;5;241;43m.\u001b[39;49m\u001b[43m_make_engine\u001b[49m\u001b[43m(\u001b[49m\u001b[43mf\u001b[49m\u001b[43m,\u001b[49m\u001b[43m \u001b[49m\u001b[38;5;28;43mself\u001b[39;49m\u001b[38;5;241;43m.\u001b[39;49m\u001b[43mengine\u001b[49m\u001b[43m)\u001b[49m\n",
      "File \u001b[1;32mc:\\Users\\Agasti Mhatre\\anaconda3\\lib\\site-packages\\pandas\\io\\parsers\\readers.py:1217\u001b[0m, in \u001b[0;36mTextFileReader._make_engine\u001b[1;34m(self, f, engine)\u001b[0m\n\u001b[0;32m   1213\u001b[0m     mode \u001b[38;5;241m=\u001b[39m \u001b[38;5;124m\"\u001b[39m\u001b[38;5;124mrb\u001b[39m\u001b[38;5;124m\"\u001b[39m\n\u001b[0;32m   1214\u001b[0m \u001b[38;5;66;03m# error: No overload variant of \"get_handle\" matches argument types\u001b[39;00m\n\u001b[0;32m   1215\u001b[0m \u001b[38;5;66;03m# \"Union[str, PathLike[str], ReadCsvBuffer[bytes], ReadCsvBuffer[str]]\"\u001b[39;00m\n\u001b[0;32m   1216\u001b[0m \u001b[38;5;66;03m# , \"str\", \"bool\", \"Any\", \"Any\", \"Any\", \"Any\", \"Any\"\u001b[39;00m\n\u001b[1;32m-> 1217\u001b[0m \u001b[38;5;28mself\u001b[39m\u001b[38;5;241m.\u001b[39mhandles \u001b[38;5;241m=\u001b[39m \u001b[43mget_handle\u001b[49m\u001b[43m(\u001b[49m\u001b[43m  \u001b[49m\u001b[38;5;66;43;03m# type: ignore[call-overload]\u001b[39;49;00m\n\u001b[0;32m   1218\u001b[0m \u001b[43m    \u001b[49m\u001b[43mf\u001b[49m\u001b[43m,\u001b[49m\n\u001b[0;32m   1219\u001b[0m \u001b[43m    \u001b[49m\u001b[43mmode\u001b[49m\u001b[43m,\u001b[49m\n\u001b[0;32m   1220\u001b[0m \u001b[43m    \u001b[49m\u001b[43mencoding\u001b[49m\u001b[38;5;241;43m=\u001b[39;49m\u001b[38;5;28;43mself\u001b[39;49m\u001b[38;5;241;43m.\u001b[39;49m\u001b[43moptions\u001b[49m\u001b[38;5;241;43m.\u001b[39;49m\u001b[43mget\u001b[49m\u001b[43m(\u001b[49m\u001b[38;5;124;43m\"\u001b[39;49m\u001b[38;5;124;43mencoding\u001b[39;49m\u001b[38;5;124;43m\"\u001b[39;49m\u001b[43m,\u001b[49m\u001b[43m \u001b[49m\u001b[38;5;28;43;01mNone\u001b[39;49;00m\u001b[43m)\u001b[49m\u001b[43m,\u001b[49m\n\u001b[0;32m   1221\u001b[0m \u001b[43m    \u001b[49m\u001b[43mcompression\u001b[49m\u001b[38;5;241;43m=\u001b[39;49m\u001b[38;5;28;43mself\u001b[39;49m\u001b[38;5;241;43m.\u001b[39;49m\u001b[43moptions\u001b[49m\u001b[38;5;241;43m.\u001b[39;49m\u001b[43mget\u001b[49m\u001b[43m(\u001b[49m\u001b[38;5;124;43m\"\u001b[39;49m\u001b[38;5;124;43mcompression\u001b[39;49m\u001b[38;5;124;43m\"\u001b[39;49m\u001b[43m,\u001b[49m\u001b[43m \u001b[49m\u001b[38;5;28;43;01mNone\u001b[39;49;00m\u001b[43m)\u001b[49m\u001b[43m,\u001b[49m\n\u001b[0;32m   1222\u001b[0m \u001b[43m    \u001b[49m\u001b[43mmemory_map\u001b[49m\u001b[38;5;241;43m=\u001b[39;49m\u001b[38;5;28;43mself\u001b[39;49m\u001b[38;5;241;43m.\u001b[39;49m\u001b[43moptions\u001b[49m\u001b[38;5;241;43m.\u001b[39;49m\u001b[43mget\u001b[49m\u001b[43m(\u001b[49m\u001b[38;5;124;43m\"\u001b[39;49m\u001b[38;5;124;43mmemory_map\u001b[39;49m\u001b[38;5;124;43m\"\u001b[39;49m\u001b[43m,\u001b[49m\u001b[43m \u001b[49m\u001b[38;5;28;43;01mFalse\u001b[39;49;00m\u001b[43m)\u001b[49m\u001b[43m,\u001b[49m\n\u001b[0;32m   1223\u001b[0m \u001b[43m    \u001b[49m\u001b[43mis_text\u001b[49m\u001b[38;5;241;43m=\u001b[39;49m\u001b[43mis_text\u001b[49m\u001b[43m,\u001b[49m\n\u001b[0;32m   1224\u001b[0m \u001b[43m    \u001b[49m\u001b[43merrors\u001b[49m\u001b[38;5;241;43m=\u001b[39;49m\u001b[38;5;28;43mself\u001b[39;49m\u001b[38;5;241;43m.\u001b[39;49m\u001b[43moptions\u001b[49m\u001b[38;5;241;43m.\u001b[39;49m\u001b[43mget\u001b[49m\u001b[43m(\u001b[49m\u001b[38;5;124;43m\"\u001b[39;49m\u001b[38;5;124;43mencoding_errors\u001b[39;49m\u001b[38;5;124;43m\"\u001b[39;49m\u001b[43m,\u001b[49m\u001b[43m \u001b[49m\u001b[38;5;124;43m\"\u001b[39;49m\u001b[38;5;124;43mstrict\u001b[39;49m\u001b[38;5;124;43m\"\u001b[39;49m\u001b[43m)\u001b[49m\u001b[43m,\u001b[49m\n\u001b[0;32m   1225\u001b[0m \u001b[43m    \u001b[49m\u001b[43mstorage_options\u001b[49m\u001b[38;5;241;43m=\u001b[39;49m\u001b[38;5;28;43mself\u001b[39;49m\u001b[38;5;241;43m.\u001b[39;49m\u001b[43moptions\u001b[49m\u001b[38;5;241;43m.\u001b[39;49m\u001b[43mget\u001b[49m\u001b[43m(\u001b[49m\u001b[38;5;124;43m\"\u001b[39;49m\u001b[38;5;124;43mstorage_options\u001b[39;49m\u001b[38;5;124;43m\"\u001b[39;49m\u001b[43m,\u001b[49m\u001b[43m \u001b[49m\u001b[38;5;28;43;01mNone\u001b[39;49;00m\u001b[43m)\u001b[49m\u001b[43m,\u001b[49m\n\u001b[0;32m   1226\u001b[0m \u001b[43m\u001b[49m\u001b[43m)\u001b[49m\n\u001b[0;32m   1227\u001b[0m \u001b[38;5;28;01massert\u001b[39;00m \u001b[38;5;28mself\u001b[39m\u001b[38;5;241m.\u001b[39mhandles \u001b[38;5;129;01mis\u001b[39;00m \u001b[38;5;129;01mnot\u001b[39;00m \u001b[38;5;28;01mNone\u001b[39;00m\n\u001b[0;32m   1228\u001b[0m f \u001b[38;5;241m=\u001b[39m \u001b[38;5;28mself\u001b[39m\u001b[38;5;241m.\u001b[39mhandles\u001b[38;5;241m.\u001b[39mhandle\n",
      "File \u001b[1;32mc:\\Users\\Agasti Mhatre\\anaconda3\\lib\\site-packages\\pandas\\io\\common.py:789\u001b[0m, in \u001b[0;36mget_handle\u001b[1;34m(path_or_buf, mode, encoding, compression, memory_map, is_text, errors, storage_options)\u001b[0m\n\u001b[0;32m    784\u001b[0m \u001b[38;5;28;01melif\u001b[39;00m \u001b[38;5;28misinstance\u001b[39m(handle, \u001b[38;5;28mstr\u001b[39m):\n\u001b[0;32m    785\u001b[0m     \u001b[38;5;66;03m# Check whether the filename is to be opened in binary mode.\u001b[39;00m\n\u001b[0;32m    786\u001b[0m     \u001b[38;5;66;03m# Binary mode does not support 'encoding' and 'newline'.\u001b[39;00m\n\u001b[0;32m    787\u001b[0m     \u001b[38;5;28;01mif\u001b[39;00m ioargs\u001b[38;5;241m.\u001b[39mencoding \u001b[38;5;129;01mand\u001b[39;00m \u001b[38;5;124m\"\u001b[39m\u001b[38;5;124mb\u001b[39m\u001b[38;5;124m\"\u001b[39m \u001b[38;5;129;01mnot\u001b[39;00m \u001b[38;5;129;01min\u001b[39;00m ioargs\u001b[38;5;241m.\u001b[39mmode:\n\u001b[0;32m    788\u001b[0m         \u001b[38;5;66;03m# Encoding\u001b[39;00m\n\u001b[1;32m--> 789\u001b[0m         handle \u001b[38;5;241m=\u001b[39m \u001b[38;5;28;43mopen\u001b[39;49m\u001b[43m(\u001b[49m\n\u001b[0;32m    790\u001b[0m \u001b[43m            \u001b[49m\u001b[43mhandle\u001b[49m\u001b[43m,\u001b[49m\n\u001b[0;32m    791\u001b[0m \u001b[43m            \u001b[49m\u001b[43mioargs\u001b[49m\u001b[38;5;241;43m.\u001b[39;49m\u001b[43mmode\u001b[49m\u001b[43m,\u001b[49m\n\u001b[0;32m    792\u001b[0m \u001b[43m            \u001b[49m\u001b[43mencoding\u001b[49m\u001b[38;5;241;43m=\u001b[39;49m\u001b[43mioargs\u001b[49m\u001b[38;5;241;43m.\u001b[39;49m\u001b[43mencoding\u001b[49m\u001b[43m,\u001b[49m\n\u001b[0;32m    793\u001b[0m \u001b[43m            \u001b[49m\u001b[43merrors\u001b[49m\u001b[38;5;241;43m=\u001b[39;49m\u001b[43merrors\u001b[49m\u001b[43m,\u001b[49m\n\u001b[0;32m    794\u001b[0m \u001b[43m            \u001b[49m\u001b[43mnewline\u001b[49m\u001b[38;5;241;43m=\u001b[39;49m\u001b[38;5;124;43m\"\u001b[39;49m\u001b[38;5;124;43m\"\u001b[39;49m\u001b[43m,\u001b[49m\n\u001b[0;32m    795\u001b[0m \u001b[43m        \u001b[49m\u001b[43m)\u001b[49m\n\u001b[0;32m    796\u001b[0m     \u001b[38;5;28;01melse\u001b[39;00m:\n\u001b[0;32m    797\u001b[0m         \u001b[38;5;66;03m# Binary mode\u001b[39;00m\n\u001b[0;32m    798\u001b[0m         handle \u001b[38;5;241m=\u001b[39m \u001b[38;5;28mopen\u001b[39m(handle, ioargs\u001b[38;5;241m.\u001b[39mmode)\n",
      "\u001b[1;31mFileNotFoundError\u001b[0m: [Errno 2] No such file or directory: '../input/datasetspam/spam.csv'"
     ]
    }
   ],
   "source": [
    "data = pd.read_csv('../input/datasetspam/spam.csv',encoding='ISO-8859-1',usecols = ['v1','v2'])\n",
    "data.head()"
   ]
  },
  {
   "cell_type": "code",
   "execution_count": 3,
   "id": "6b9a2f3f",
   "metadata": {
    "execution": {
     "iopub.execute_input": "2022-05-14T21:53:21.925205Z",
     "iopub.status.busy": "2022-05-14T21:53:21.924291Z",
     "iopub.status.idle": "2022-05-14T21:53:21.931558Z",
     "shell.execute_reply": "2022-05-14T21:53:21.930606Z"
    },
    "papermill": {
     "duration": 0.033738,
     "end_time": "2022-05-14T21:53:21.933708",
     "exception": false,
     "start_time": "2022-05-14T21:53:21.899970",
     "status": "completed"
    },
    "tags": []
   },
   "outputs": [
    {
     "data": {
      "text/plain": [
       "(5572, 2)"
      ]
     },
     "execution_count": 3,
     "metadata": {},
     "output_type": "execute_result"
    }
   ],
   "source": [
    "data.shape"
   ]
  },
  {
   "cell_type": "code",
   "execution_count": 4,
   "id": "8331701f",
   "metadata": {
    "execution": {
     "iopub.execute_input": "2022-05-14T21:53:21.982413Z",
     "iopub.status.busy": "2022-05-14T21:53:21.982010Z",
     "iopub.status.idle": "2022-05-14T21:53:22.207715Z",
     "shell.execute_reply": "2022-05-14T21:53:22.206662Z"
    },
    "papermill": {
     "duration": 0.254314,
     "end_time": "2022-05-14T21:53:22.210674",
     "exception": false,
     "start_time": "2022-05-14T21:53:21.956360",
     "status": "completed"
    },
    "tags": []
   },
   "outputs": [],
   "source": [
    "data['v2'] = data['v2'].apply(lambda x : clean_numbers(x))"
   ]
  },
  {
   "cell_type": "markdown",
   "id": "81f7c175",
   "metadata": {
    "papermill": {
     "duration": 0.022827,
     "end_time": "2022-05-14T21:53:22.257197",
     "exception": false,
     "start_time": "2022-05-14T21:53:22.234370",
     "status": "completed"
    },
    "tags": []
   },
   "source": [
    "# 2. Remove Punctuations  "
   ]
  },
  {
   "cell_type": "code",
   "execution_count": 5,
   "id": "4ecba9dc",
   "metadata": {
    "execution": {
     "iopub.execute_input": "2022-05-14T21:53:22.308002Z",
     "iopub.status.busy": "2022-05-14T21:53:22.307688Z",
     "iopub.status.idle": "2022-05-14T21:53:23.274703Z",
     "shell.execute_reply": "2022-05-14T21:53:23.273648Z"
    },
    "papermill": {
     "duration": 0.994318,
     "end_time": "2022-05-14T21:53:23.277096",
     "exception": false,
     "start_time": "2022-05-14T21:53:22.282778",
     "status": "completed"
    },
    "tags": []
   },
   "outputs": [
    {
     "name": "stdout",
     "output_type": "stream",
     "text": [
      "Before - What a great day it is!!\n",
      "After  - What a great day it is\n"
     ]
    }
   ],
   "source": [
    "#load the trained pipelines for english\n",
    "# you can also try your hands on \n",
    "#en_core_web_md,\n",
    "#en_core_web_lg,\n",
    "#en_core_web_trf\n",
    "nlp = spacy.load(\"en_core_web_sm\") \n",
    "\n",
    "\n",
    "def remove_punc(sentence):\n",
    "    doc = nlp(sentence)\n",
    "    sentence_out = []\n",
    "    for token in doc:\n",
    "        if token.is_punct:\n",
    "            continue\n",
    "        sentence_out.append(token.text)\n",
    "    return \" \".join(sentence_out)\n",
    "\n",
    "\n",
    "sentence = \"What a great day it is!!\"\n",
    "print(f'Before - {sentence}')\n",
    "print(f'After  - {remove_punc(sentence)}')"
   ]
  },
  {
   "cell_type": "code",
   "execution_count": 6,
   "id": "6692f8a3",
   "metadata": {
    "execution": {
     "iopub.execute_input": "2022-05-14T21:53:23.325784Z",
     "iopub.status.busy": "2022-05-14T21:53:23.324853Z",
     "iopub.status.idle": "2022-05-14T21:54:15.340156Z",
     "shell.execute_reply": "2022-05-14T21:54:15.339185Z"
    },
    "papermill": {
     "duration": 52.041571,
     "end_time": "2022-05-14T21:54:15.342701",
     "exception": false,
     "start_time": "2022-05-14T21:53:23.301130",
     "status": "completed"
    },
    "tags": []
   },
   "outputs": [],
   "source": [
    "data['v2'] = data['v2'].apply(lambda x : remove_punc(x))"
   ]
  },
  {
   "cell_type": "markdown",
   "id": "eaafead6",
   "metadata": {
    "papermill": {
     "duration": 0.022896,
     "end_time": "2022-05-14T21:54:15.388133",
     "exception": false,
     "start_time": "2022-05-14T21:54:15.365237",
     "status": "completed"
    },
    "tags": []
   },
   "source": [
    "# 3. Tokenization"
   ]
  },
  {
   "cell_type": "code",
   "execution_count": 7,
   "id": "80995574",
   "metadata": {
    "execution": {
     "iopub.execute_input": "2022-05-14T21:54:15.434575Z",
     "iopub.status.busy": "2022-05-14T21:54:15.434272Z",
     "iopub.status.idle": "2022-05-14T21:54:15.456184Z",
     "shell.execute_reply": "2022-05-14T21:54:15.455294Z"
    },
    "papermill": {
     "duration": 0.048391,
     "end_time": "2022-05-14T21:54:15.458904",
     "exception": false,
     "start_time": "2022-05-14T21:54:15.410513",
     "status": "completed"
    },
    "tags": []
   },
   "outputs": [
    {
     "name": "stdout",
     "output_type": "stream",
     "text": [
      "LeonardMaltin, gave, this, film, a, dreaded, BOMB, rating, in, his, 1995, Movie, and, Video, Guide, ., What, film, was, he, looking, at, ?, "
     ]
    }
   ],
   "source": [
    "doc = nlp(\"LeonardMaltin gave this film a dreaded BOMB rating in his 1995 Movie and Video Guide. What film was he looking at?\")\n",
    "\n",
    "for token in doc:\n",
    "    \n",
    "    print(token.text,end=', ')\n",
    "    \n",
    "    #print(token)\n",
    "    \n",
    "    #You can use token as well to print the words, but token gives you words with type <class 'spacy.tokens.token.Token'>\n",
    "    #and token.text gives you words in str format where you can carry normal string opertaions."
   ]
  },
  {
   "cell_type": "markdown",
   "id": "283bc8c4",
   "metadata": {
    "papermill": {
     "duration": 0.022395,
     "end_time": "2022-05-14T21:54:15.503770",
     "exception": false,
     "start_time": "2022-05-14T21:54:15.481375",
     "status": "completed"
    },
    "tags": []
   },
   "source": [
    "# 3.1 Adding Special Rules in Tokenization\n",
    "\n",
    "### Lets separate LeonardMaltin into two different words while tokenizing"
   ]
  },
  {
   "cell_type": "code",
   "execution_count": 8,
   "id": "2627cd05",
   "metadata": {
    "execution": {
     "iopub.execute_input": "2022-05-14T21:54:15.550203Z",
     "iopub.status.busy": "2022-05-14T21:54:15.549896Z",
     "iopub.status.idle": "2022-05-14T21:54:15.582271Z",
     "shell.execute_reply": "2022-05-14T21:54:15.581096Z"
    },
    "papermill": {
     "duration": 0.058876,
     "end_time": "2022-05-14T21:54:15.585071",
     "exception": false,
     "start_time": "2022-05-14T21:54:15.526195",
     "status": "completed"
    },
    "tags": []
   },
   "outputs": [
    {
     "name": "stdout",
     "output_type": "stream",
     "text": [
      "Leonard, Maltin, gave, this, film, a, dreaded, BOMB, rating, in, his, 1995, Movie, and, Video, Guide, ., What, film, was, he, looking, at, ?, "
     ]
    }
   ],
   "source": [
    "special_case = [{ORTH: \"Leonard\"}, {ORTH: \"Maltin\"}]        # Adding special case rule\n",
    "nlp.tokenizer.add_special_case(\"LeonardMaltin\", special_case)\n",
    "doc = nlp(\"LeonardMaltin gave this film a dreaded BOMB rating in his 1995 Movie and Video Guide. What film was he looking at?\")\n",
    "\n",
    "for token in doc:\n",
    "    print(token.text,end=', ')"
   ]
  },
  {
   "cell_type": "markdown",
   "id": "cb5ad12f",
   "metadata": {
    "papermill": {
     "duration": 0.022942,
     "end_time": "2022-05-14T21:54:15.631221",
     "exception": false,
     "start_time": "2022-05-14T21:54:15.608279",
     "status": "completed"
    },
    "tags": []
   },
   "source": [
    "# 4. Lemmatization"
   ]
  },
  {
   "cell_type": "code",
   "execution_count": 9,
   "id": "513bf4c5",
   "metadata": {
    "execution": {
     "iopub.execute_input": "2022-05-14T21:54:15.679416Z",
     "iopub.status.busy": "2022-05-14T21:54:15.679079Z",
     "iopub.status.idle": "2022-05-14T21:54:15.695629Z",
     "shell.execute_reply": "2022-05-14T21:54:15.693778Z"
    },
    "papermill": {
     "duration": 0.043751,
     "end_time": "2022-05-14T21:54:15.698154",
     "exception": false,
     "start_time": "2022-05-14T21:54:15.654403",
     "status": "completed"
    },
    "tags": []
   },
   "outputs": [
    {
     "name": "stdout",
     "output_type": "stream",
     "text": [
      "Before - change changed changing changes\n",
      "After  - change change change change\n"
     ]
    }
   ],
   "source": [
    "def lemmatization(sentence):\n",
    "    doc = nlp(sentence)\n",
    "    return \" \".join([token.lemma_ for token in doc])\n",
    "\n",
    "\n",
    "sentence = \"change changed changing changes\"\n",
    "print(f'Before - {sentence}')\n",
    "print(f'After  - {lemmatization(sentence)}')"
   ]
  },
  {
   "cell_type": "code",
   "execution_count": 10,
   "id": "b788d5db",
   "metadata": {
    "execution": {
     "iopub.execute_input": "2022-05-14T21:54:15.751474Z",
     "iopub.status.busy": "2022-05-14T21:54:15.750844Z",
     "iopub.status.idle": "2022-05-14T21:55:04.186579Z",
     "shell.execute_reply": "2022-05-14T21:55:04.185452Z"
    },
    "papermill": {
     "duration": 48.464843,
     "end_time": "2022-05-14T21:55:04.189390",
     "exception": false,
     "start_time": "2022-05-14T21:54:15.724547",
     "status": "completed"
    },
    "tags": []
   },
   "outputs": [],
   "source": [
    "data['v2'] = data['v2'].apply(lambda x : lemmatization(x))"
   ]
  },
  {
   "cell_type": "markdown",
   "id": "652dfb0b",
   "metadata": {
    "papermill": {
     "duration": 0.022962,
     "end_time": "2022-05-14T21:55:04.236297",
     "exception": false,
     "start_time": "2022-05-14T21:55:04.213335",
     "status": "completed"
    },
    "tags": []
   },
   "source": [
    "# 5. Stop Word Removal"
   ]
  },
  {
   "cell_type": "code",
   "execution_count": 11,
   "id": "9f73aa93",
   "metadata": {
    "execution": {
     "iopub.execute_input": "2022-05-14T21:55:04.285936Z",
     "iopub.status.busy": "2022-05-14T21:55:04.285012Z",
     "iopub.status.idle": "2022-05-14T21:55:04.306054Z",
     "shell.execute_reply": "2022-05-14T21:55:04.305032Z"
    },
    "papermill": {
     "duration": 0.048422,
     "end_time": "2022-05-14T21:55:04.308461",
     "exception": false,
     "start_time": "2022-05-14T21:55:04.260039",
     "status": "completed"
    },
    "tags": []
   },
   "outputs": [
    {
     "name": "stdout",
     "output_type": "stream",
     "text": [
      "Before - LeonardMaltin gave this film a dreaded BOMB rating in his 1995 Movie and Video Guide. What film was he looking at?\n",
      "After  - Leonard Maltin gave film dreaded BOMB rating 1995 Movie Video Guide . film looking ?\n"
     ]
    }
   ],
   "source": [
    "def remove_stopwords(sentence):\n",
    "    doc = nlp(sentence)\n",
    "    out_sentence = []\n",
    "    for token in doc:\n",
    "        if nlp.vocab[token.text].is_stop == False:\n",
    "            out_sentence.append(token.text)\n",
    "    return \" \".join(out_sentence)\n",
    "\n",
    "sentence = \"LeonardMaltin gave this film a dreaded BOMB rating in his 1995 Movie and Video Guide. What film was he looking at?\"\n",
    "print(f'Before - {sentence}')\n",
    "print(f'After  - {remove_stopwords(sentence)}')"
   ]
  },
  {
   "cell_type": "code",
   "execution_count": 12,
   "id": "14a7b401",
   "metadata": {
    "execution": {
     "iopub.execute_input": "2022-05-14T21:55:04.358725Z",
     "iopub.status.busy": "2022-05-14T21:55:04.358212Z",
     "iopub.status.idle": "2022-05-14T21:55:52.762076Z",
     "shell.execute_reply": "2022-05-14T21:55:52.761236Z"
    },
    "papermill": {
     "duration": 48.431734,
     "end_time": "2022-05-14T21:55:52.764479",
     "exception": false,
     "start_time": "2022-05-14T21:55:04.332745",
     "status": "completed"
    },
    "tags": []
   },
   "outputs": [],
   "source": [
    "data['v2'] = data['v2'].apply(lambda x : remove_stopwords(x))"
   ]
  },
  {
   "cell_type": "markdown",
   "id": "d75df227",
   "metadata": {
    "papermill": {
     "duration": 0.025178,
     "end_time": "2022-05-14T21:55:52.814150",
     "exception": false,
     "start_time": "2022-05-14T21:55:52.788972",
     "status": "completed"
    },
    "tags": []
   },
   "source": [
    "# 6. Removing URLS and Mail Ids"
   ]
  },
  {
   "cell_type": "code",
   "execution_count": 13,
   "id": "55f7925c",
   "metadata": {
    "execution": {
     "iopub.execute_input": "2022-05-14T21:55:52.866066Z",
     "iopub.status.busy": "2022-05-14T21:55:52.865439Z",
     "iopub.status.idle": "2022-05-14T21:55:52.889385Z",
     "shell.execute_reply": "2022-05-14T21:55:52.888007Z"
    },
    "papermill": {
     "duration": 0.054471,
     "end_time": "2022-05-14T21:55:52.892534",
     "exception": false,
     "start_time": "2022-05-14T21:55:52.838063",
     "status": "completed"
    },
    "tags": []
   },
   "outputs": [
    {
     "name": "stdout",
     "output_type": "stream",
     "text": [
      "Before - You can access the website here at http://urlremove.com and if any doubts please reach me out on gmail at removedmails@gmail.com \n",
      "After  - You can access the website here at and if any doubts please reach me out on gmail at\n"
     ]
    }
   ],
   "source": [
    "def remove_urls(sentence):\n",
    "    doc = nlp(sentence)\n",
    "    out_sentence = []\n",
    "    for token in doc:\n",
    "        if token.like_url or token.like_email:\n",
    "            continue\n",
    "        out_sentence.append(token.text)\n",
    "    return \" \".join(out_sentence)\n",
    "\n",
    "\n",
    "sentence = \"You can access the website here at http://urlremove.com and if any doubts please reach me out on gmail at removedmails@gmail.com \"\n",
    "print(f'Before - {sentence}')\n",
    "print(f'After  - {remove_urls(sentence)}')"
   ]
  },
  {
   "cell_type": "code",
   "execution_count": 14,
   "id": "93f7d41c",
   "metadata": {
    "execution": {
     "iopub.execute_input": "2022-05-14T21:55:52.956549Z",
     "iopub.status.busy": "2022-05-14T21:55:52.956141Z",
     "iopub.status.idle": "2022-05-14T21:56:33.536553Z",
     "shell.execute_reply": "2022-05-14T21:56:33.535422Z"
    },
    "papermill": {
     "duration": 40.615957,
     "end_time": "2022-05-14T21:56:33.539382",
     "exception": false,
     "start_time": "2022-05-14T21:55:52.923425",
     "status": "completed"
    },
    "tags": []
   },
   "outputs": [],
   "source": [
    "data['v2'] = data['v2'].apply(lambda x : remove_urls(x))"
   ]
  }
 ],
 "metadata": {
  "kernelspec": {
   "display_name": "base",
   "language": "python",
   "name": "python3"
  },
  "language_info": {
   "codemirror_mode": {
    "name": "ipython",
    "version": 3
   },
   "file_extension": ".py",
   "mimetype": "text/x-python",
   "name": "python",
   "nbconvert_exporter": "python",
   "pygments_lexer": "ipython3",
   "version": "3.9.12"
  },
  "papermill": {
   "default_parameters": {},
   "duration": 217.84642,
   "end_time": "2022-05-14T21:56:36.870878",
   "environment_variables": {},
   "exception": null,
   "input_path": "__notebook__.ipynb",
   "output_path": "__notebook__.ipynb",
   "parameters": {},
   "start_time": "2022-05-14T21:52:59.024458",
   "version": "2.3.4"
  }
 },
 "nbformat": 4,
 "nbformat_minor": 5
}
